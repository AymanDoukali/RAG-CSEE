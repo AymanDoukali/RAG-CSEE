{
 "cells": [
  {
   "cell_type": "markdown",
   "id": "3889039a",
   "metadata": {},
   "source": []
  },
  {
   "cell_type": "code",
   "execution_count": null,
   "id": "aa4cb4d8",
   "metadata": {},
   "outputs": [],
   "source": [
    "# Initialize the script environment\n",
    "import sys\n",
    "\n",
    "\n",
    "sys.path.append('./utils')"
   ]
  },
  {
   "cell_type": "markdown",
   "id": "2b812288",
   "metadata": {},
   "source": [
    "## 1. Text Extraction"
   ]
  },
  {
   "cell_type": "code",
   "execution_count": null,
   "id": "574311ce",
   "metadata": {},
   "outputs": [],
   "source": [
    "#imports\n",
    "from utils.text_extractor import TextExtractor"
   ]
  },
  {
   "cell_type": "code",
   "execution_count": null,
   "id": "b46e4c00",
   "metadata": {},
   "outputs": [],
   "source": [
    "file_path = \"../../src/first_batch/IG03056_V2.pdf\"\n",
    "\n",
    "text_extractor = TextExtractor(file_path, min_words=20)\n",
    "\n",
    "text_extractor.extract_text_advanced()\n",
    "text_extractor.clean_text()\n",
    "print()"
   ]
  },
  {
   "cell_type": "code",
   "execution_count": null,
   "id": "5fec07e3",
   "metadata": {},
   "outputs": [],
   "source": [
    "text = text_extractor.get_text()\n",
    "print(text[1000:10000])  "
   ]
  },
  {
   "cell_type": "markdown",
   "id": "aad82ec7",
   "metadata": {},
   "source": [
    "## Chunking"
   ]
  },
  {
   "cell_type": "code",
   "execution_count": null,
   "id": "aebdf73e",
   "metadata": {},
   "outputs": [],
   "source": [
    "# Imports\n"
   ]
  }
 ],
 "metadata": {
  "kernelspec": {
   "display_name": "venv",
   "language": "python",
   "name": "python3"
  },
  "language_info": {
   "codemirror_mode": {
    "name": "ipython",
    "version": 3
   },
   "file_extension": ".py",
   "mimetype": "text/x-python",
   "name": "python",
   "nbconvert_exporter": "python",
   "pygments_lexer": "ipython3",
   "version": "3.13.1"
  }
 },
 "nbformat": 4,
 "nbformat_minor": 5
}
