{
 "cells": [
  {
   "cell_type": "code",
   "execution_count": null,
   "id": "5d45d8c0",
   "metadata": {},
   "outputs": [],
   "source": [
    "! pip install PyMuPDF"
   ]
  },
  {
   "cell_type": "code",
   "execution_count": 10,
   "id": "20f30e8a",
   "metadata": {},
   "outputs": [],
   "source": [
    "# imports\n",
    "import os\n",
    "import logging\n",
    "import fitz  # PyMuPDF\n",
    "from pathlib import Path\n",
    "from typing import List, Dict, Optional\n",
    "import datetime"
   ]
  },
  {
   "cell_type": "code",
   "execution_count": 2,
   "id": "41b2f8e6",
   "metadata": {},
   "outputs": [],
   "source": [
    "# Configure logging\n",
    "logging.basicConfig(\n",
    "    level=logging.INFO,\n",
    "    format='%(asctime)s - %(levelname)s - %(message)s',\n",
    "    handlers=[\n",
    "        logging.FileHandler('./logs/pdf_extraction.log', encoding='utf-8'),\n",
    "        logging.StreamHandler()\n",
    "    ]\n",
    ")\n",
    "# Create a logger\n",
    "logger = logging.getLogger(__name__)\n",
    "\n",
    "# Set the console handler encoding to handle Unicode characters\n",
    "for handler in logger.handlers:\n",
    "    if isinstance(handler, logging.StreamHandler):\n",
    "        handler.setStream(sys.stdout)"
   ]
  },
  {
   "cell_type": "code",
   "execution_count": null,
   "id": "bc787200",
   "metadata": {},
   "outputs": [],
   "source": [
    "# Testing logging\n",
    "logger.info(\"Testing logs.\")"
   ]
  },
  {
   "cell_type": "code",
   "execution_count": 5,
   "id": "1c891f9a",
   "metadata": {},
   "outputs": [],
   "source": [
    "def extract_text_from_pdf(pdf_path: str) -> Optional[str]:\n",
    "    \"\"\"\n",
    "    Extract text from a single PDF file using PyMuPDF.\n",
    "    \n",
    "    Args:\n",
    "        pdf_path (str): Path to the PDF file\n",
    "        \n",
    "    Returns:\n",
    "        Optional[str]: Extracted text or None if extraction fails\n",
    "    \"\"\"\n",
    "    try:\n",
    "        print(f\"🚀 Starting text extraction from: {pdf_path}\")\n",
    "        logger.info(f\"🚀 Starting text extraction from: {pdf_path}\")\n",
    "        \n",
    "        # Open the PDF document\n",
    "        doc = fitz.open(pdf_path)\n",
    "        text_content = \"\"\n",
    "        page_count = len(doc)\n",
    "        \n",
    "        # Extract text from each page\n",
    "        for page_num in range(page_count):\n",
    "            page = doc.load_page(page_num)\n",
    "            page_text = page.get_text()\n",
    "            text_content += f\"\\n--- Page {page_num + 1} ---\\n{page_text}\"\n",
    "            \n",
    "        doc.close()\n",
    "        print(f\"✅ Successfully extracted text from {pdf_path} ({page_count} pages)\")\n",
    "        logger.info(f\"✅ Successfully extracted text from {pdf_path} ({page_count} pages)\")\n",
    "        return text_content\n",
    "        \n",
    "    except Exception as e:\n",
    "        print(f\"❌ Failed to extract text from {pdf_path}: {str(e)}\")\n",
    "        logger.error(f\"❌ Failed to extract text from {pdf_path}: {str(e)}\")\n",
    "        return None"
   ]
  },
  {
   "cell_type": "code",
   "execution_count": null,
   "id": "746f391c",
   "metadata": {},
   "outputs": [
    {
     "name": "stderr",
     "output_type": "stream",
     "text": [
      "2025-08-06 10:33:57,055 - INFO - 🚀 Starting text extraction from: e:\\Stage\\RAG-CSEE\\src\\first_batch\\IG03056_V2.pdf\n",
      "2025-08-06 10:33:57,259 - INFO - ✅ Successfully extracted text from e:\\Stage\\RAG-CSEE\\src\\first_batch\\IG03056_V2.pdf (101 pages)\n"
     ]
    },
    {
     "name": "stdout",
     "output_type": "stream",
     "text": [
      "🚀 Starting text extraction from: e:\\Stage\\RAG-CSEE\\src\\first_batch\\IG03056_V2.pdf\n",
      "✅ Successfully extracted text from e:\\Stage\\RAG-CSEE\\src\\first_batch\\IG03056_V2.pdf (101 pages)\n"
     ]
    },
    {
     "name": "stderr",
     "output_type": "stream",
     "text": [
      "2025-08-06 10:33:57,264 - INFO - Text extraction completed and saved to outputs/extracted_text.txt\n"
     ]
    }
   ],
   "source": [
    "# Test the function with a sample PDF file\n",
    "pdf_path = os.path.abspath(\"../src/first_batch/IG03056_V2.pdf\")\n",
    "extracted_text = extract_text_from_pdf(pdf_path)\n",
    "folder_path = os.path.abspath(f\"./outputs/{datetime.datetime.now().strftime('%Y-%m-%d_%H-%M-%S')}\")\n",
    "file_path = os.path.join(folder_path, \"extracted_text.txt\")\n",
    "os.makedirs(folder_path, exist_ok=True)\n",
    "with open(file_path, \"w\", encoding=\"utf-8\") as f:\n",
    "    f.write(extracted_text if extracted_text else \"No text extracted.\")\n",
    "    logger.info(\"Text extraction completed and saved to outputs/extracted_text.txt\")"
   ]
  },
  {
   "cell_type": "code",
   "execution_count": 24,
   "id": "e5d1ffca",
   "metadata": {},
   "outputs": [],
   "source": [
    "def extract_text_from_directory(directory_path: str, output_dir: str = \"extracted_texts\") -> Dict[str, str]:\n",
    "    \"\"\"\n",
    "    Extract text from all PDF files in a directory.\n",
    "    \n",
    "    Args:\n",
    "        directory_path (str): Path to directory containing PDF files\n",
    "        output_dir (str): Directory to save extracted text files\n",
    "        \n",
    "    Returns:\n",
    "        Dict[str, str]: Dictionary mapping PDF filenames to extracted text\n",
    "    \"\"\"\n",
    "    directory = Path(directory_path)\n",
    "    output_path = Path(output_dir)\n",
    "    \n",
    "    if not directory.exists():\n",
    "        print(f\"Directory does not exist: {directory_path}\")\n",
    "        return {}\n",
    "    \n",
    "    # Create output directory if it doesn't exist\n",
    "    output_path.mkdir(exist_ok=True)\n",
    "    print(f\"Output directory created/verified: {output_path}\")\n",
    "    \n",
    "    # Find all PDF files in the directory\n",
    "    pdf_files = list(directory.glob(\"*.pdf\"))\n",
    "    print(f\"Found {len(pdf_files)} PDF files in {directory_path}\")\n",
    "    \n",
    "    extracted_texts = {}\n",
    "    successful_extractions = 0\n",
    "    \n",
    "    for pdf_file in pdf_files:\n",
    "        try:\n",
    "            print(f\"Processing: {pdf_file.name}\")\n",
    "            \n",
    "            # Extract text from PDF\n",
    "            extracted_text = extract_text_from_pdf(str(pdf_file))\n",
    "            \n",
    "            if extracted_text:\n",
    "                # Store in dictionary\n",
    "                extracted_texts[pdf_file.name] = extracted_text\n",
    "                \n",
    "                # Save to text file\n",
    "                output_file = output_path / f\"{pdf_file.stem}.txt\"\n",
    "                with open(output_file, 'w', encoding='utf-8') as f:\n",
    "                    f.write(extracted_text)\n",
    "                \n",
    "                successful_extractions += 1\n",
    "                print(f\"Text saved to: {output_file}\")\n",
    "            else:\n",
    "                print(f\"Failed to extract text from: {pdf_file.name}\")\n",
    "            \n",
    "        except Exception as e:\n",
    "            print(f\"Error processing {pdf_file.name}: {str(e)}\")\n",
    "    \n",
    "    print(f\"Extraction complete: {successful_extractions}/{len(pdf_files)} files processed successfully\")\n",
    "    return extracted_texts"
   ]
  },
  {
   "cell_type": "code",
   "execution_count": 25,
   "id": "5053ba68",
   "metadata": {},
   "outputs": [
    {
     "name": "stderr",
     "output_type": "stream",
     "text": [
      "2025-08-06 10:36:48,911 - INFO - 🚀 Starting text extraction from: e:\\Stage\\RAG-CSEE\\src\\first_batch\\IG03056_V2.pdf\n"
     ]
    },
    {
     "name": "stdout",
     "output_type": "stream",
     "text": [
      "Output directory created/verified: e:\\Stage\\RAG-CSEE\\scripts\\outputs\\extracted_texts\n",
      "Found 17 PDF files in e:\\Stage\\RAG-CSEE\\src\\first_batch\n",
      "Processing: IG03056_V2.pdf\n",
      "🚀 Starting text extraction from: e:\\Stage\\RAG-CSEE\\src\\first_batch\\IG03056_V2.pdf\n"
     ]
    },
    {
     "name": "stderr",
     "output_type": "stream",
     "text": [
      "2025-08-06 10:36:49,140 - INFO - ✅ Successfully extracted text from e:\\Stage\\RAG-CSEE\\src\\first_batch\\IG03056_V2.pdf (101 pages)\n",
      "2025-08-06 10:36:49,143 - INFO - 🚀 Starting text extraction from: e:\\Stage\\RAG-CSEE\\src\\first_batch\\IG03057_V1.pdf\n"
     ]
    },
    {
     "name": "stdout",
     "output_type": "stream",
     "text": [
      "✅ Successfully extracted text from e:\\Stage\\RAG-CSEE\\src\\first_batch\\IG03056_V2.pdf (101 pages)\n",
      "Text saved to: e:\\Stage\\RAG-CSEE\\scripts\\outputs\\extracted_texts\\IG03056_V2.txt\n",
      "Processing: IG03057_V1.pdf\n",
      "🚀 Starting text extraction from: e:\\Stage\\RAG-CSEE\\src\\first_batch\\IG03057_V1.pdf\n"
     ]
    },
    {
     "name": "stderr",
     "output_type": "stream",
     "text": [
      "2025-08-06 10:36:49,398 - INFO - ✅ Successfully extracted text from e:\\Stage\\RAG-CSEE\\src\\first_batch\\IG03057_V1.pdf (60 pages)\n",
      "2025-08-06 10:36:49,400 - INFO - 🚀 Starting text extraction from: e:\\Stage\\RAG-CSEE\\src\\first_batch\\IG03058_V1.pdf\n",
      "2025-08-06 10:36:49,572 - INFO - ✅ Successfully extracted text from e:\\Stage\\RAG-CSEE\\src\\first_batch\\IG03058_V1.pdf (76 pages)\n",
      "2025-08-06 10:36:49,573 - INFO - 🚀 Starting text extraction from: e:\\Stage\\RAG-CSEE\\src\\first_batch\\IG03096_V2.pdf\n"
     ]
    },
    {
     "name": "stdout",
     "output_type": "stream",
     "text": [
      "✅ Successfully extracted text from e:\\Stage\\RAG-CSEE\\src\\first_batch\\IG03057_V1.pdf (60 pages)\n",
      "Text saved to: e:\\Stage\\RAG-CSEE\\scripts\\outputs\\extracted_texts\\IG03057_V1.txt\n",
      "Processing: IG03058_V1.pdf\n",
      "🚀 Starting text extraction from: e:\\Stage\\RAG-CSEE\\src\\first_batch\\IG03058_V1.pdf\n",
      "✅ Successfully extracted text from e:\\Stage\\RAG-CSEE\\src\\first_batch\\IG03058_V1.pdf (76 pages)\n",
      "Text saved to: e:\\Stage\\RAG-CSEE\\scripts\\outputs\\extracted_texts\\IG03058_V1.txt\n",
      "Processing: IG03096_V2.pdf\n",
      "🚀 Starting text extraction from: e:\\Stage\\RAG-CSEE\\src\\first_batch\\IG03096_V2.pdf\n"
     ]
    },
    {
     "name": "stderr",
     "output_type": "stream",
     "text": [
      "2025-08-06 10:36:50,654 - INFO - ✅ Successfully extracted text from e:\\Stage\\RAG-CSEE\\src\\first_batch\\IG03096_V2.pdf (258 pages)\n",
      "2025-08-06 10:36:50,659 - INFO - 🚀 Starting text extraction from: e:\\Stage\\RAG-CSEE\\src\\first_batch\\IG03245_V1.pdf\n"
     ]
    },
    {
     "name": "stdout",
     "output_type": "stream",
     "text": [
      "✅ Successfully extracted text from e:\\Stage\\RAG-CSEE\\src\\first_batch\\IG03096_V2.pdf (258 pages)\n",
      "Text saved to: e:\\Stage\\RAG-CSEE\\scripts\\outputs\\extracted_texts\\IG03096_V2.txt\n",
      "Processing: IG03245_V1.pdf\n",
      "🚀 Starting text extraction from: e:\\Stage\\RAG-CSEE\\src\\first_batch\\IG03245_V1.pdf\n"
     ]
    },
    {
     "name": "stderr",
     "output_type": "stream",
     "text": [
      "2025-08-06 10:36:51,258 - INFO - ✅ Successfully extracted text from e:\\Stage\\RAG-CSEE\\src\\first_batch\\IG03245_V1.pdf (170 pages)\n",
      "2025-08-06 10:36:51,261 - INFO - 🚀 Starting text extraction from: e:\\Stage\\RAG-CSEE\\src\\first_batch\\IG33276_V1.pdf\n"
     ]
    },
    {
     "name": "stdout",
     "output_type": "stream",
     "text": [
      "✅ Successfully extracted text from e:\\Stage\\RAG-CSEE\\src\\first_batch\\IG03245_V1.pdf (170 pages)\n",
      "Text saved to: e:\\Stage\\RAG-CSEE\\scripts\\outputs\\extracted_texts\\IG03245_V1.txt\n",
      "Processing: IG33276_V1.pdf\n",
      "🚀 Starting text extraction from: e:\\Stage\\RAG-CSEE\\src\\first_batch\\IG33276_V1.pdf\n"
     ]
    },
    {
     "name": "stderr",
     "output_type": "stream",
     "text": [
      "2025-08-06 10:37:34,920 - INFO - ✅ Successfully extracted text from e:\\Stage\\RAG-CSEE\\src\\first_batch\\IG33276_V1.pdf (2280 pages)\n",
      "2025-08-06 10:37:34,940 - INFO - 🚀 Starting text extraction from: e:\\Stage\\RAG-CSEE\\src\\first_batch\\IG33282_V6.pdf\n"
     ]
    },
    {
     "name": "stdout",
     "output_type": "stream",
     "text": [
      "✅ Successfully extracted text from e:\\Stage\\RAG-CSEE\\src\\first_batch\\IG33276_V1.pdf (2280 pages)\n",
      "Text saved to: e:\\Stage\\RAG-CSEE\\scripts\\outputs\\extracted_texts\\IG33276_V1.txt\n",
      "Processing: IG33282_V6.pdf\n",
      "🚀 Starting text extraction from: e:\\Stage\\RAG-CSEE\\src\\first_batch\\IG33282_V6.pdf\n"
     ]
    },
    {
     "name": "stderr",
     "output_type": "stream",
     "text": [
      "2025-08-06 10:37:36,046 - INFO - ✅ Successfully extracted text from e:\\Stage\\RAG-CSEE\\src\\first_batch\\IG33282_V6.pdf (356 pages)\n",
      "2025-08-06 10:37:36,050 - INFO - 🚀 Starting text extraction from: e:\\Stage\\RAG-CSEE\\src\\first_batch\\IG33305V_2_18122020.pdf\n",
      "2025-08-06 10:37:36,116 - INFO - ✅ Successfully extracted text from e:\\Stage\\RAG-CSEE\\src\\first_batch\\IG33305V_2_18122020.pdf (14 pages)\n",
      "2025-08-06 10:37:36,118 - INFO - 🚀 Starting text extraction from: e:\\Stage\\RAG-CSEE\\src\\first_batch\\IG90502_V3_20122022_fil.pdf\n"
     ]
    },
    {
     "name": "stdout",
     "output_type": "stream",
     "text": [
      "✅ Successfully extracted text from e:\\Stage\\RAG-CSEE\\src\\first_batch\\IG33282_V6.pdf (356 pages)\n",
      "Text saved to: e:\\Stage\\RAG-CSEE\\scripts\\outputs\\extracted_texts\\IG33282_V6.txt\n",
      "Processing: IG33305V_2_18122020.pdf\n",
      "🚀 Starting text extraction from: e:\\Stage\\RAG-CSEE\\src\\first_batch\\IG33305V_2_18122020.pdf\n",
      "✅ Successfully extracted text from e:\\Stage\\RAG-CSEE\\src\\first_batch\\IG33305V_2_18122020.pdf (14 pages)\n",
      "Text saved to: e:\\Stage\\RAG-CSEE\\scripts\\outputs\\extracted_texts\\IG33305V_2_18122020.txt\n",
      "Processing: IG90502_V3_20122022_fil.pdf\n",
      "🚀 Starting text extraction from: e:\\Stage\\RAG-CSEE\\src\\first_batch\\IG90502_V3_20122022_fil.pdf\n"
     ]
    },
    {
     "name": "stderr",
     "output_type": "stream",
     "text": [
      "2025-08-06 10:37:36,647 - INFO - ✅ Successfully extracted text from e:\\Stage\\RAG-CSEE\\src\\first_batch\\IG90502_V3_20122022_fil.pdf (70 pages)\n",
      "2025-08-06 10:37:36,649 - INFO - 🚀 Starting text extraction from: e:\\Stage\\RAG-CSEE\\src\\first_batch\\IG91844_V1.pdf\n"
     ]
    },
    {
     "name": "stdout",
     "output_type": "stream",
     "text": [
      "✅ Successfully extracted text from e:\\Stage\\RAG-CSEE\\src\\first_batch\\IG90502_V3_20122022_fil.pdf (70 pages)\n",
      "Text saved to: e:\\Stage\\RAG-CSEE\\scripts\\outputs\\extracted_texts\\IG90502_V3_20122022_fil.txt\n",
      "Processing: IG91844_V1.pdf\n",
      "🚀 Starting text extraction from: e:\\Stage\\RAG-CSEE\\src\\first_batch\\IG91844_V1.pdf\n"
     ]
    },
    {
     "name": "stderr",
     "output_type": "stream",
     "text": [
      "2025-08-06 10:37:37,655 - INFO - ✅ Successfully extracted text from e:\\Stage\\RAG-CSEE\\src\\first_batch\\IG91844_V1.pdf (217 pages)\n",
      "2025-08-06 10:37:37,660 - INFO - 🚀 Starting text extraction from: e:\\Stage\\RAG-CSEE\\src\\first_batch\\IG93267_V2.pdf\n"
     ]
    },
    {
     "name": "stdout",
     "output_type": "stream",
     "text": [
      "✅ Successfully extracted text from e:\\Stage\\RAG-CSEE\\src\\first_batch\\IG91844_V1.pdf (217 pages)\n",
      "Text saved to: e:\\Stage\\RAG-CSEE\\scripts\\outputs\\extracted_texts\\IG91844_V1.txt\n",
      "Processing: IG93267_V2.pdf\n",
      "🚀 Starting text extraction from: e:\\Stage\\RAG-CSEE\\src\\first_batch\\IG93267_V2.pdf\n"
     ]
    },
    {
     "name": "stderr",
     "output_type": "stream",
     "text": [
      "2025-08-06 10:37:38,139 - INFO - ✅ Successfully extracted text from e:\\Stage\\RAG-CSEE\\src\\first_batch\\IG93267_V2.pdf (212 pages)\n",
      "2025-08-06 10:37:38,144 - INFO - 🚀 Starting text extraction from: e:\\Stage\\RAG-CSEE\\src\\first_batch\\IG93269_V1.pdf\n",
      "2025-08-06 10:37:38,330 - INFO - ✅ Successfully extracted text from e:\\Stage\\RAG-CSEE\\src\\first_batch\\IG93269_V1.pdf (76 pages)\n",
      "2025-08-06 10:37:38,332 - INFO - 🚀 Starting text extraction from: e:\\Stage\\RAG-CSEE\\src\\first_batch\\IN00180_V1.pdf\n"
     ]
    },
    {
     "name": "stdout",
     "output_type": "stream",
     "text": [
      "✅ Successfully extracted text from e:\\Stage\\RAG-CSEE\\src\\first_batch\\IG93267_V2.pdf (212 pages)\n",
      "Text saved to: e:\\Stage\\RAG-CSEE\\scripts\\outputs\\extracted_texts\\IG93267_V2.txt\n",
      "Processing: IG93269_V1.pdf\n",
      "🚀 Starting text extraction from: e:\\Stage\\RAG-CSEE\\src\\first_batch\\IG93269_V1.pdf\n",
      "✅ Successfully extracted text from e:\\Stage\\RAG-CSEE\\src\\first_batch\\IG93269_V1.pdf (76 pages)\n",
      "Text saved to: e:\\Stage\\RAG-CSEE\\scripts\\outputs\\extracted_texts\\IG93269_V1.txt\n",
      "Processing: IN00180_V1.pdf\n",
      "🚀 Starting text extraction from: e:\\Stage\\RAG-CSEE\\src\\first_batch\\IN00180_V1.pdf\n",
      "✅ Successfully extracted text from e:\\Stage\\RAG-CSEE\\src\\first_batch\\IN00180_V1.pdf (62 pages)\n"
     ]
    },
    {
     "name": "stderr",
     "output_type": "stream",
     "text": [
      "2025-08-06 10:37:38,363 - INFO - ✅ Successfully extracted text from e:\\Stage\\RAG-CSEE\\src\\first_batch\\IN00180_V1.pdf (62 pages)\n",
      "2025-08-06 10:37:38,365 - INFO - 🚀 Starting text extraction from: e:\\Stage\\RAG-CSEE\\src\\first_batch\\IN03737_V1.pdf\n",
      "2025-08-06 10:37:38,554 - INFO - ✅ Successfully extracted text from e:\\Stage\\RAG-CSEE\\src\\first_batch\\IN03737_V1.pdf (147 pages)\n",
      "2025-08-06 10:37:38,558 - INFO - 🚀 Starting text extraction from: e:\\Stage\\RAG-CSEE\\src\\first_batch\\LFRP Principes TVM430 - II.SF 17843-oo4973 V01.pdf\n"
     ]
    },
    {
     "name": "stdout",
     "output_type": "stream",
     "text": [
      "Text saved to: e:\\Stage\\RAG-CSEE\\scripts\\outputs\\extracted_texts\\IN00180_V1.txt\n",
      "Processing: IN03737_V1.pdf\n",
      "🚀 Starting text extraction from: e:\\Stage\\RAG-CSEE\\src\\first_batch\\IN03737_V1.pdf\n",
      "✅ Successfully extracted text from e:\\Stage\\RAG-CSEE\\src\\first_batch\\IN03737_V1.pdf (147 pages)\n",
      "Text saved to: e:\\Stage\\RAG-CSEE\\scripts\\outputs\\extracted_texts\\IN03737_V1.txt\n",
      "Processing: LFRP Principes TVM430 - II.SF 17843-oo4973 V01.pdf\n",
      "🚀 Starting text extraction from: e:\\Stage\\RAG-CSEE\\src\\first_batch\\LFRP Principes TVM430 - II.SF 17843-oo4973 V01.pdf\n"
     ]
    },
    {
     "name": "stderr",
     "output_type": "stream",
     "text": [
      "2025-08-06 10:37:41,474 - INFO - ✅ Successfully extracted text from e:\\Stage\\RAG-CSEE\\src\\first_batch\\LFRP Principes TVM430 - II.SF 17843-oo4973 V01.pdf (773 pages)\n",
      "2025-08-06 10:37:41,481 - INFO - 🚀 Starting text extraction from: e:\\Stage\\RAG-CSEE\\src\\first_batch\\OP00580_V4.pdf\n"
     ]
    },
    {
     "name": "stdout",
     "output_type": "stream",
     "text": [
      "✅ Successfully extracted text from e:\\Stage\\RAG-CSEE\\src\\first_batch\\LFRP Principes TVM430 - II.SF 17843-oo4973 V01.pdf (773 pages)\n",
      "Text saved to: e:\\Stage\\RAG-CSEE\\scripts\\outputs\\extracted_texts\\LFRP Principes TVM430 - II.SF 17843-oo4973 V01.txt\n",
      "Processing: OP00580_V4.pdf\n",
      "🚀 Starting text extraction from: e:\\Stage\\RAG-CSEE\\src\\first_batch\\OP00580_V4.pdf\n"
     ]
    },
    {
     "name": "stderr",
     "output_type": "stream",
     "text": [
      "2025-08-06 10:37:41,830 - INFO - ✅ Successfully extracted text from e:\\Stage\\RAG-CSEE\\src\\first_batch\\OP00580_V4.pdf (84 pages)\n",
      "2025-08-06 10:37:41,832 - INFO - 🚀 Starting text extraction from: e:\\Stage\\RAG-CSEE\\src\\first_batch\\RRG00507_V1.pdf\n"
     ]
    },
    {
     "name": "stdout",
     "output_type": "stream",
     "text": [
      "✅ Successfully extracted text from e:\\Stage\\RAG-CSEE\\src\\first_batch\\OP00580_V4.pdf (84 pages)\n",
      "Text saved to: e:\\Stage\\RAG-CSEE\\scripts\\outputs\\extracted_texts\\OP00580_V4.txt\n",
      "Processing: RRG00507_V1.pdf\n",
      "🚀 Starting text extraction from: e:\\Stage\\RAG-CSEE\\src\\first_batch\\RRG00507_V1.pdf\n"
     ]
    },
    {
     "name": "stderr",
     "output_type": "stream",
     "text": [
      "2025-08-06 10:37:42,244 - INFO - ✅ Successfully extracted text from e:\\Stage\\RAG-CSEE\\src\\first_batch\\RRG00507_V1.pdf (158 pages)\n",
      "2025-08-06 10:37:42,248 - INFO - Extraction complete: 17 files processed successfully\n"
     ]
    },
    {
     "name": "stdout",
     "output_type": "stream",
     "text": [
      "✅ Successfully extracted text from e:\\Stage\\RAG-CSEE\\src\\first_batch\\RRG00507_V1.pdf (158 pages)\n",
      "Text saved to: e:\\Stage\\RAG-CSEE\\scripts\\outputs\\extracted_texts\\RRG00507_V1.txt\n",
      "Extraction complete: 17/17 files processed successfully\n"
     ]
    }
   ],
   "source": [
    "input_directory = os.path.abspath(\"../src/first_batch\")\n",
    "output_directory = os.path.abspath(\"./outputs/extracted_texts\")\n",
    "extracted_texts = extract_text_from_directory(input_directory, output_directory)\n",
    "logger.info(f\"Extraction complete: {len(extracted_texts)} files processed successfully\")"
   ]
  }
 ],
 "metadata": {
  "kernelspec": {
   "display_name": "venv",
   "language": "python",
   "name": "python3"
  },
  "language_info": {
   "codemirror_mode": {
    "name": "ipython",
    "version": 3
   },
   "file_extension": ".py",
   "mimetype": "text/x-python",
   "name": "python",
   "nbconvert_exporter": "python",
   "pygments_lexer": "ipython3",
   "version": "3.13.1"
  }
 },
 "nbformat": 4,
 "nbformat_minor": 5
}
